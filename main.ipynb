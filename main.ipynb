{
 "cells": [
  {
   "cell_type": "code",
   "execution_count": 1,
   "outputs": [],
   "source": [
    "import tensorflow as tf\n",
    "import numpy as np\n",
    "import pandas as pd\n",
    "import os"
   ],
   "metadata": {
    "collapsed": false,
    "pycharm": {
     "name": "#%%\n"
    }
   }
  },
  {
   "cell_type": "code",
   "execution_count": 5,
   "outputs": [
    {
     "data": {
      "text/plain": "<tf.Tensor: shape=(), dtype=bool, numpy=False>"
     },
     "execution_count": 5,
     "metadata": {},
     "output_type": "execute_result"
    }
   ],
   "source": [
    "tf.constant(1) < tf.constant(2) < tf.constant(2) or tf.constant(False)"
   ],
   "metadata": {
    "collapsed": false,
    "pycharm": {
     "name": "#%%\n"
    }
   }
  },
  {
   "cell_type": "code",
   "execution_count": 2,
   "outputs": [
    {
     "data": {
      "text/plain": "TensorShape([2])"
     },
     "execution_count": 2,
     "metadata": {},
     "output_type": "execute_result"
    }
   ],
   "source": [
    "tf.unstack(tf.constant([[1,2],[3,4]]))[0].shape"
   ],
   "metadata": {
    "collapsed": false,
    "pycharm": {
     "name": "#%%\n"
    }
   }
  },
  {
   "cell_type": "code",
   "execution_count": 4,
   "outputs": [
    {
     "data": {
      "text/plain": "6"
     },
     "execution_count": 4,
     "metadata": {},
     "output_type": "execute_result"
    }
   ],
   "source": [
    "pd.DataFrame(data=None, columns=[\"weight\", \"intersect\", \"xo\", \"yo\", \"xf\", \"yf\"]).shape[1]"
   ],
   "metadata": {
    "collapsed": false,
    "pycharm": {
     "name": "#%%\n"
    }
   }
  },
  {
   "cell_type": "code",
   "execution_count": 3,
   "outputs": [
    {
     "data": {
      "text/plain": "True"
     },
     "execution_count": 3,
     "metadata": {},
     "output_type": "execute_result"
    }
   ],
   "source": [
    "tf.constant(True).numpy()"
   ],
   "metadata": {
    "collapsed": false,
    "pycharm": {
     "name": "#%%\n"
    }
   }
  },
  {
   "cell_type": "code",
   "execution_count": 8,
   "outputs": [
    {
     "data": {
      "text/plain": "72314946"
     },
     "execution_count": 8,
     "metadata": {},
     "output_type": "execute_result"
    }
   ],
   "source": [
    "num_lines = sum(1 for line in open('out.csv'))\n",
    "num_lines"
   ],
   "metadata": {
    "collapsed": false,
    "pycharm": {
     "name": "#%%\n"
    }
   }
  },
  {
   "cell_type": "code",
   "execution_count": 7,
   "outputs": [
    {
     "data": {
      "text/plain": "array([[4, 5, 6]])"
     },
     "execution_count": 7,
     "metadata": {},
     "output_type": "execute_result"
    }
   ],
   "source": [
    "a = np.array(\n",
    "  [[1, 2 ,3],\n",
    "   [4, 5, 6]]\n",
    ")\n",
    "b = np.array(\n",
    "  [1, 2]\n",
    ")>1\n",
    "a[b]"
   ],
   "metadata": {
    "collapsed": false,
    "pycharm": {
     "name": "#%%\n"
    }
   }
  },
  {
   "cell_type": "code",
   "execution_count": 3,
   "outputs": [
    {
     "data": {
      "text/plain": "<TFRecordDatasetV2 element_spec=TensorSpec(shape=(), dtype=tf.string, name=None)>"
     },
     "execution_count": 3,
     "metadata": {},
     "output_type": "execute_result"
    }
   ],
   "source": [
    "filenames = [\"out_0.tfrecord\"]\n",
    "raw_dataset = tf.data.TFRecordDataset(filenames)\n",
    "raw_dataset"
   ],
   "metadata": {
    "collapsed": false,
    "pycharm": {
     "name": "#%%\n"
    }
   }
  },
  {
   "cell_type": "code",
   "execution_count": 57,
   "outputs": [],
   "source": [
    "features = {\n",
    "  \"weight\": tf.io.FixedLenFeature([], tf.string),\n",
    "  \"intersect\": tf.io.FixedLenFeature([], tf.string),\n",
    "  \"full_arr\": tf.io.FixedLenFeature([], tf.string)\n",
    "}\n",
    "def process(raw_record):\n",
    "  tensor_dict = tf.io.parse_single_example(raw_record, features)\n",
    "\n",
    "  weight = tf.io.parse_tensor(tensor_dict[\"weight\"], out_type=tf.float32).numpy()\n",
    "  intersect = tf.io.parse_tensor(tensor_dict[\"intersect\"], out_type=tf.bool).numpy()\n",
    "  full_arr = tf.io.parse_tensor(tensor_dict[\"full_arr\"], out_type=tf.float32).numpy()\n",
    "  print(np.unique(full_arr[:, 0]).shape)\n",
    "\n",
    "  weight = np.expand_dims(np.repeat(weight, 8796), -1)\n",
    "  intersect = np.expand_dims(intersect, -1)\n",
    "\n",
    "  data = np.hstack([weight, intersect, full_arr])\n",
    "  df = pd.DataFrame(data=data, columns=[\"weight\", \"intersect\", \"xo\", \"yo\", \"xf\", \"yf\"])\n",
    "  df = df[df[\"intersect\"] == True]\n",
    "  df.drop(\"intersect\", axis=\"columns\")\n",
    "  df.to_csv(\"out.csv\", mode=\"a\", header=not os.path.exists(\"out.csv\"), float_format=\"%.4f\")\n",
    "\n",
    "  return tf.constant(1.0, dtype=tf.float32)\n"
   ],
   "metadata": {
    "collapsed": false,
    "pycharm": {
     "name": "#%%\n"
    }
   }
  },
  {
   "cell_type": "code",
   "execution_count": 58,
   "outputs": [
    {
     "name": "stdout",
     "output_type": "stream",
     "text": [
      "(100,)\n",
      "103\n"
     ]
    }
   ],
   "source": [
    "features = {\n",
    "  \"weight\": tf.io.FixedLenFeature([], tf.string),\n",
    "  \"intersect\": tf.io.FixedLenFeature([], tf.string),\n",
    "  \"full_arr\": tf.io.FixedLenFeature([], tf.string)\n",
    "}\n",
    "for raw_record in raw_dataset.take(1):\n",
    "  process(raw_record)\n",
    "  print(i)"
   ],
   "metadata": {
    "collapsed": false,
    "pycharm": {
     "name": "#%%\n"
    }
   }
  },
  {
   "cell_type": "code",
   "execution_count": 17,
   "outputs": [
    {
     "name": "stdout",
     "output_type": "stream",
     "text": [
      "<class 'tensorflow.core.example.feature_pb2.Feature'>\n",
      "bytes_list\n",
      "<class 'google.protobuf.pyext._message.RepeatedScalarContainer'>\n",
      "<class 'tensorflow.core.example.feature_pb2.Feature'>\n",
      "bytes_list\n",
      "<class 'google.protobuf.pyext._message.RepeatedScalarContainer'>\n",
      "<class 'tensorflow.core.example.feature_pb2.Feature'>\n",
      "bytes_list\n",
      "<class 'google.protobuf.pyext._message.RepeatedScalarContainer'>\n"
     ]
    }
   ],
   "source": [
    "result = {}\n",
    "# example.features.feature is the dictionary\n",
    "for key, feature in example.features.feature.items():\n",
    "  # The values are the Feature objects which contain a `kind` which contains:\n",
    "  # one of three fields: bytes_list, float_list, int64_list\n",
    "\n",
    "  print(type(feature))\n",
    "  kind = feature.WhichOneof('kind')\n",
    "  print(kind)\n",
    "  print(type(tf.io.parse_getattr(feature, kind).value))\n",
    "  result[key] = np.array(getattr(feature, kind).value)"
   ],
   "metadata": {
    "collapsed": false,
    "pycharm": {
     "name": "#%%\n"
    }
   }
  },
  {
   "cell_type": "code",
   "execution_count": 11,
   "outputs": [
    {
     "data": {
      "text/plain": "dict_keys(['weight', 'full_arr', 'intersect'])"
     },
     "execution_count": 11,
     "metadata": {},
     "output_type": "execute_result"
    }
   ],
   "source": [
    "result.keys()"
   ],
   "metadata": {
    "collapsed": false,
    "pycharm": {
     "name": "#%%\n"
    }
   }
  },
  {
   "cell_type": "code",
   "execution_count": 13,
   "outputs": [
    {
     "data": {
      "text/plain": "array([b'\\x08\\x01\\x12\\x08\\x12\\x02\\x08d\\x12\\x02\\x08\\x01\"\\x90\\x03\\x9f\\x9a\\xba=\\xeb\\x8c\\x0e>\\xb1\\xe9\\xb1=\\xcf\\xc7\\xfc= \\xabT>E\\x9b\\x1b<\\x0f\\xe4\\xbf=a\\x0b\\xbd=\\x1c\\xfb!>\\x03\\x11\\x00>\\xba\\xd8\\xb9=\\xe5S)=S2\\x85=Y#\\x01>-_\\x80=\\x9f\\xeb\\xb2=\\xd7\\xbbG>\\xd0t\\xd6=\\xcb6 >\\xb6\\x8d\\xb9=\\x8f\\xd2\\xb1=+$\\x0c>\\xae\\xd6\\x01>\\x9b\\x95k=\\x01\\x05f>\\x97o$>\\x86{;>\\xd9NE>\\x8a\"\\x1a>\\x8b\\xfd\\x8c=\\xc5\\x11P>\\x95\\x97\\xc2=\\x07\\x02M>>K\\xb2=PzE>\\xda\\xe4\\xec=\\xbf\\xb1\\x92=r\\x0cE>\\xfb\\xd2+>k\\xb1\\r>\\x1fJ\\xf4=\\x9a\\xd9H>O\\x8bq;x\\x88\\xf2=\\xe0\\x12\\x0e>M.\\x8d=\\xbf5\\xe2=\\x1d\\xa0\\xda=G\\x03\\xc2=}.\\xd6=\\xfao\\xc6=\\x8cr\\xf8<\\xf5v\\xbb=m\\xa0o=\\xdcT+>\\xc7\\xfe\\x83=C\\xc8\\xaa=\\x87\\x9e,=M5W=G;\\x8e=\\xee\\x12#>\\x13u\\xf5=24\\xac=\\xe1\\xbd\\xe2=/\\xe3\\xc0=R{\\x1c>\\xae\\x8a\\x9b=7\\xd6\\xd0=\\x97\\xa1\\xfd=\\x8a\\x03\\x0c>\\xe6\\x8b<>\\xbd\\x8aG=\\x7fM\\xdb=\\x91\\x0f\\xb0=\\x9a\\x1a\\xcb=4e1>\\xd9f\\xc6=\\xae;\\xe3=!g7>ay`=\\xed\\x9f\\xd7=i\\x941>*\\x15\\xc8=\\x00\\x92\\xfb=\\xbc\\xe0\\xb1=\\x83\\xf7\\r>%\\x96\\x9c=\\xb4d\\xa1<\\xdb\\xeb\\xdb=\\x85\\x81J>\\xda\\xa4\\xbf;\\xd8\\x19\\x97=\\x9aW\\x9e=\\xa0q\\x06=\\x1f\\xd3\\x02>\\xb8\\xb1D>G/\\x18>\\x8aB\\n>T\\xd8\\xfc=\\xe1ko<'],\n      dtype='|S415')"
     },
     "execution_count": 13,
     "metadata": {},
     "output_type": "execute_result"
    }
   ],
   "source": [
    "result[\"weight\"]"
   ],
   "metadata": {
    "collapsed": false,
    "pycharm": {
     "name": "#%%\n"
    }
   }
  },
  {
   "cell_type": "code",
   "execution_count": 39,
   "outputs": [
    {
     "data": {
      "text/plain": "array([1, 1, 2, 2, 3, 3, 4, 4])"
     },
     "execution_count": 39,
     "metadata": {},
     "output_type": "execute_result"
    }
   ],
   "source": [
    "arr = np.array([1, 2, 3, 4])\n",
    "np.repeat(arr, 2)"
   ],
   "metadata": {
    "collapsed": false,
    "pycharm": {
     "name": "#%%\n"
    }
   }
  },
  {
   "cell_type": "code",
   "execution_count": null,
   "outputs": [],
   "source": [],
   "metadata": {
    "collapsed": false,
    "pycharm": {
     "name": "#%%\n"
    }
   }
  }
 ],
 "metadata": {
  "kernelspec": {
   "display_name": "Python 3",
   "language": "python",
   "name": "python3"
  },
  "language_info": {
   "codemirror_mode": {
    "name": "ipython",
    "version": 2
   },
   "file_extension": ".py",
   "mimetype": "text/x-python",
   "name": "python",
   "nbconvert_exporter": "python",
   "pygments_lexer": "ipython2",
   "version": "2.7.6"
  }
 },
 "nbformat": 4,
 "nbformat_minor": 0
}