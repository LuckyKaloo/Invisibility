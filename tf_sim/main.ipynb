{
 "cells": [
  {
   "cell_type": "code",
   "execution_count": 1,
   "outputs": [],
   "source": [
    "import tensorflow as tf\n",
    "import numpy as np\n",
    "from tqdm.notebook import tqdm_notebook\n",
    "import matplotlib.pyplot as plt\n",
    "\n",
    "from tf_sim.raytracer import RayTracer\n",
    "from tf_sim.lens import LenticularLens\n",
    "from tf_sim.camera import Camera\n",
    "from tf_sim.source import RectangleSource\n",
    "from tf_sim.blocker import RectangleBlocker"
   ],
   "metadata": {
    "collapsed": false,
    "pycharm": {
     "name": "#%%\n"
    }
   }
  },
  {
   "cell_type": "code",
   "execution_count": 7,
   "outputs": [
    {
     "data": {
      "text/plain": "<tf.Tensor: shape=(5,), dtype=int32, numpy=array([10,  6,  7,  2,  3])>"
     },
     "execution_count": 7,
     "metadata": {},
     "output_type": "execute_result"
    }
   ],
   "source": [
    "a = tf.constant([5, 1, 1, 2, 2, 3, 4])\n",
    "b = tf.constant([3, 3, 7, 2, 4, 7, 2])\n",
    "idx = tf.argsort(tf.constant([5, 1, 1, 2, 2, 3, 4]))\n",
    "a = tf.gather(a, idx)\n",
    "b = tf.gather(b, idx)\n",
    "unique = tf.unique(a)[1]\n",
    "tf.math.segment_sum(b, unique)"
   ],
   "metadata": {
    "collapsed": false,
    "pycharm": {
     "name": "#%%\n"
    }
   }
  },
  {
   "cell_type": "code",
   "execution_count": null,
   "outputs": [],
   "source": [
    "p_standard = 0.0005\n",
    "# lenticular_list = []\n",
    "\n",
    "lens_config = {\n",
    "    \"class\": LenticularLens,\n",
    "    \"zo\": 0.3,\n",
    "    \"w\": 0.09,\n",
    "    \"h\": 0.09,\n",
    "    \"R\": p_standard / 0.2,\n",
    "    \"p\": p_standard,\n",
    "    \"t\": p_standard * 2,\n",
    "    \"n\": 1.6357\n",
    "}\n",
    "camera_config = {\n",
    "    \"class\": Camera,\n",
    "    \"z_camera\": 0.878,\n",
    "    \"camera_radius\": 0.031,\n",
    "    \"z_pupil\": 0.026,\n",
    "    \"f_number\": 2.8,\n",
    "    \"focal_length\": 0.0733\n",
    "}\n",
    "source_config = {\n",
    "    \"class\": RectangleSource,\n",
    "    \"x\": 0,\n",
    "    \"y\": 0.0,\n",
    "    \"z\": 0,\n",
    "    \"w\": 0.8,\n",
    "    \"h\": 0.5\n",
    "}\n",
    "blocker_config = {\n",
    "    \"class\": RectangleBlocker,\n",
    "    \"x\": 0.012,\n",
    "    \"y\": -0.00,\n",
    "    \"z\": 0.0,\n",
    "    \"w\": 0.00,\n",
    "    \"h\": 0.02,\n",
    "}\n",
    "config = {\n",
    "    \"batch_size\": 1000,\n",
    "    \"rays_per_pos\": int(2 * np.pi * 2 * 10**5 * 0.007),\n",
    "    \"average_steradians\": 0.007,\n",
    "    \"lens\": lens_config,\n",
    "    \"camera\": camera_config,\n",
    "    \"source\": source_config,\n",
    "    \"blocker\": blocker_config\n",
    "}"
   ],
   "metadata": {
    "collapsed": false,
    "pycharm": {
     "name": "#%%\n"
    }
   }
  },
  {
   "cell_type": "code",
   "execution_count": null,
   "outputs": [],
   "source": [
    "NUM_TO_PASS = 10 ** 7\n",
    "\n",
    "IMG_RESOLUTION = 128\n",
    "\n",
    "raytracer = RayTracer(config=config)\n",
    "\n",
    "s = tf.constant(0.0)\n",
    "pdf = tf.zeros(shape=(1, IMG_RESOLUTION, IMG_RESOLUTION, 1))\n",
    "\n",
    "with (pbar := tqdm_notebook(total=NUM_TO_PASS)):\n",
    "    while s.numpy() < NUM_TO_PASS:\n",
    "        pdf, n_rays = raytracer.trace_for_pdf(pdf)\n",
    "        s += n_rays\n",
    "        pbar.update(n_rays.numpy())\n",
    "        if not tf.math.is_finite(n_rays).numpy():\n",
    "            print(\"i dont like this\")\n",
    "\n",
    "plt.imshow(tf.cast(pdf / tf.reduce_max(pdf) * 256, tf.uint8).numpy()[0])\n",
    "plt.show()"
   ],
   "metadata": {
    "collapsed": false,
    "pycharm": {
     "name": "#%%\n"
    }
   }
  }
 ],
 "metadata": {
  "kernelspec": {
   "display_name": "Python 3 (ipykernel)",
   "language": "python",
   "name": "python3"
  },
  "language_info": {
   "codemirror_mode": {
    "name": "ipython",
    "version": 3
   },
   "file_extension": ".py",
   "mimetype": "text/x-python",
   "name": "python",
   "nbconvert_exporter": "python",
   "pygments_lexer": "ipython3",
   "version": "3.9.12"
  }
 },
 "nbformat": 4,
 "nbformat_minor": 1
}